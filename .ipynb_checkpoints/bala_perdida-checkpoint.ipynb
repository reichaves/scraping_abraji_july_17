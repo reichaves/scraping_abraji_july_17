{
 "cells": [
  {
   "cell_type": "markdown",
   "metadata": {},
   "source": [
    "### Look for the mention of the words \"bala perdida\"  (lost bullet) in news sites. In Brazil there are police incidents in which people are hit in shootings - in many cases they are civilians who live nearby"
   ]
  },
  {
   "cell_type": "code",
   "execution_count": 1,
   "metadata": {
    "collapsed": true
   },
   "outputs": [],
   "source": [
    "import csv\n",
    "import requests"
   ]
  },
  {
   "cell_type": "code",
   "execution_count": 4,
   "metadata": {},
   "outputs": [
    {
     "name": "stdout",
     "output_type": "stream",
     "text": [
      "http://oglobo.globo.com/rio/cadela-vitima-de-bala-perdida-em-confronto-na-serrinha-20742625\n",
      "encontrou!\n",
      "\n",
      "http://g1.globo.com/rio-de-janeiro/noticia/homem-e-morto-em-hotel-em-niteroi-rj-apos-reclamar-de-barulho.ghtml\n",
      "não encontrou!\n",
      "\n",
      "http://oglobo.globo.com/rio/cao-baleado-em-tiroteio-no-jacare-20753397\n",
      "encontrou!\n",
      "\n",
      "http://bandnewsfmrio.com.br/editorias-detalhes/primas-sao-baleadas-em-bento-ribeiro\n",
      "encontrou!\n",
      "\n",
      "http://g1.globo.com/rio-de-janeiro/noticia/morre-adolescente-baleada-durante-tiroteio-no-morro-dos-prazeres-no-rio.ghtml\n",
      "encontrou!\n",
      "\n",
      "http://g1.globo.com/rio-de-janeiro/noticia/crianca-de-2-anos-morre-apos-ser-atingida-por-bala-perdida-na-zona-norte-do-rio.ghtml\n",
      "encontrou!\n",
      "\n",
      "http://extra.globo.com/casos-de-policia/anjo-de-bondade-diz-mae-de-entregador-morto-por-bala-perdida-em-guerra-de-traficantes-no-rio-20812925.html\n",
      "encontrou!\n",
      "\n",
      "http://extra.globo.com/casos-de-policia/dois-pms-sao-baleados-na-zona-oeste-do-rio-um-deles-voltava-de-festa-com-familia-20823516.html\n",
      "encontrou!\n",
      "\n",
      "http://odia.ig.com.br/rio-de-janeiro/2017-01-25/policial-militar-e-baleado-quando-chegava-em-casa-na-praca-seca.html\n",
      "não encontrou!\n",
      "\n",
      "http://oglobo.globo.com/rio/traficantes-pms-trocam-tiros-na-ladeira-dos-tabajaras-20823100\n",
      "não encontrou!\n",
      "\n",
      "encontrados: 7\n",
      "nao encontrados: 3\n"
     ]
    }
   ],
   "source": [
    "encontrou = 0\n",
    "nao_encontrou = 0\n",
    "notificacoes = csv.DictReader(open('notificacoes.csv', encoding='utf-8'))\n",
    "for notificacao in notificacoes:\n",
    "    pagina = requests.get(notificacao['link'])\n",
    "    if 'bala perdida' in pagina.text:\n",
    "        print(notificacao['link'])\n",
    "        print('encontrou!')\n",
    "        print()\n",
    "        encontrou = encontrou + 1\n",
    "    else:\n",
    "        print(notificacao['link'])\n",
    "        print('não encontrou!')\n",
    "        print()\n",
    "        nao_encontrou = nao_encontrou + 1\n",
    "\n",
    "print('encontrados:', encontrou)\n",
    "print('nao encontrados:', nao_encontrou)"
   ]
  },
  {
   "cell_type": "code",
   "execution_count": null,
   "metadata": {
    "collapsed": true
   },
   "outputs": [],
   "source": []
  }
 ],
 "metadata": {
  "kernelspec": {
   "display_name": "Python 3",
   "language": "python",
   "name": "python3"
  },
  "language_info": {
   "codemirror_mode": {
    "name": "ipython",
    "version": 3
   },
   "file_extension": ".py",
   "mimetype": "text/x-python",
   "name": "python",
   "nbconvert_exporter": "python",
   "pygments_lexer": "ipython3",
   "version": "3.6.1"
  }
 },
 "nbformat": 4,
 "nbformat_minor": 2
}
