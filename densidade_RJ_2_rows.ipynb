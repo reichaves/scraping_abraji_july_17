{
 "cells": [
  {
   "cell_type": "markdown",
   "metadata": {},
   "source": [
    "### With the use of the rows library"
   ]
  },
  {
   "cell_type": "code",
   "execution_count": 1,
   "metadata": {
    "collapsed": true
   },
   "outputs": [],
   "source": [
    "import rows"
   ]
  },
  {
   "cell_type": "code",
   "execution_count": 2,
   "metadata": {
    "collapsed": true
   },
   "outputs": [],
   "source": [
    "municipios = rows.import_from_csv('municipios-brasil.csv')"
   ]
  },
  {
   "cell_type": "code",
   "execution_count": 3,
   "metadata": {},
   "outputs": [
    {
     "name": "stdout",
     "output_type": "stream",
     "text": [
      "Angra dos Reis/RJ: 205.44546655516368 hab/km²\n",
      "Aperibé/RJ: 107.91420118343196 hab/km²\n",
      "Araruama/RJ: 175.5556252155105 hab/km²\n",
      "Areal/RJ: 102.9841327082582 hab/km²\n",
      "Armação dos Búzios/RJ: 392.145702902675 hab/km²\n",
      "Arraial do Cabo/RJ: 172.90535903674592 hab/km²\n",
      "Barra do Piraí/RJ: 163.70105532238284 hab/km²\n",
      "Barra Mansa/RJ: 324.9328435941012 hab/km²\n",
      "Belford Roxo/RJ: 6030.994602929839 hab/km²\n",
      "Bom Jardim/RJ: 65.86158485856906 hab/km²\n",
      "Bom Jesus do Itabapoana/RJ: 59.133643939014405 hab/km²\n",
      "Cabo Frio/RJ: 453.7473807319331 hab/km²\n",
      "Cachoeiras de Macacu/RJ: 56.90186621933319 hab/km²\n",
      "Cambuci/RJ: 26.396653017625063 hab/km²\n",
      "Campos dos Goytacazes/RJ: 115.16403009908859 hab/km²\n",
      "Cantagalo/RJ: 26.465406790518898 hab/km²\n",
      "Carapebus/RJ: 43.355077402395096 hab/km²\n",
      "Cardoso Moreira/RJ: 24.016926214665574 hab/km²\n",
      "Carmo/RJ: 54.15294775423992 hab/km²\n",
      "Casimiro de Abreu/RJ: 76.71289363456823 hab/km²\n",
      "Comendador Levy Gasparian/RJ: 76.5272710262887 hab/km²\n",
      "Conceição de Macabu/RJ: 61.07927549169234 hab/km²\n",
      "Cordeiro/RJ: 175.59088955737002 hab/km²\n",
      "Duas Barras/RJ: 29.136565990456642 hab/km²\n",
      "Duque de Caxias/RJ: 1828.5103288995338 hab/km²\n",
      "Engenheiro Paulo de Frontin/RJ: 99.57123514367385 hab/km²\n",
      "Guapimirim/RJ: 142.7031072428417 hab/km²\n",
      "Iguaba Grande/RJ: 439.8652550529355 hab/km²\n",
      "Itaboraí/RJ: 506.55947208216185 hab/km²\n",
      "Itaguaí/RJ: 395.4435059992025 hab/km²\n",
      "Italva/RJ: 47.862636988632495 hab/km²\n",
      "Itaocara/RJ: 53.088051189317014 hab/km²\n",
      "Itaperuna/RJ: 86.70725749543128 hab/km²\n",
      "Itatiaia/RJ: 117.40974913318377 hab/km²\n",
      "Japeri/RJ: 1166.385733479907 hab/km²\n",
      "Laje do Muriaé/RJ: 29.951594191302956 hab/km²\n",
      "Macaé/RJ: 169.88782512224188 hab/km²\n",
      "Macuco/RJ: 67.7946474523932 hab/km²\n",
      "Magé/RJ: 585.1274131274131 hab/km²\n",
      "Mangaratiba/RJ: 102.28669229258438 hab/km²\n",
      "Maricá/RJ: 351.5486664644069 hab/km²\n",
      "Mendes/RJ: 184.82069249793898 hab/km²\n",
      "Mesquita/RJ: 4310.701484895033 hab/km²\n",
      "Miguel Pereira/RJ: 85.21336191991148 hab/km²\n",
      "Miracema/RJ: 88.15145643821221 hab/km²\n",
      "Natividade/RJ: 38.99777628380824 hab/km²\n",
      "Nilópolis/RJ: 8118.875709128416 hab/km²\n",
      "Niterói/RJ: 3640.6959378733577 hab/km²\n",
      "Nova Friburgo/RJ: 195.07183338511481 hab/km²\n",
      "Nova Iguaçu/RJ: 1527.5913669064748 hab/km²\n",
      "Paracambi/RJ: 262.26625111308994 hab/km²\n",
      "Paraíba do Sul/RJ: 70.7698137908463 hab/km²\n",
      "Paraty/RJ: 40.574023025782395 hab/km²\n",
      "Paty do Alferes/RJ: 82.68193224592221 hab/km²\n",
      "Petrópolis/RJ: 371.848454385524 hab/km²\n",
      "Pinheiral/RJ: 296.8639749117993 hab/km²\n",
      "Piraí/RJ: 52.06775099924809 hab/km²\n",
      "Porciúncula/RJ: 58.80210575108433 hab/km²\n",
      "Porto Real/RJ: 326.935960591133 hab/km²\n",
      "Quatis/RJ: 44.71669754273131 hab/km²\n",
      "Queimados/RJ: 1822.4834874504622 hab/km²\n",
      "Quissamã/RJ: 28.3950790466705 hab/km²\n",
      "Resende/RJ: 109.35311572700297 hab/km²\n",
      "Rio Bonito/RJ: 121.69960127941113 hab/km²\n",
      "Rio Claro/RJ: 20.811685597238647 hab/km²\n",
      "Rio das Flores/RJ: 17.898434069954632 hab/km²\n",
      "Rio das Ostras/RJ: 461.38665735242756 hab/km²\n",
      "Rio de Janeiro/RJ: 5265.809644416303 hab/km²\n",
      "Santa Maria Madalena/RJ: 12.667533997741666 hab/km²\n",
      "Santo Antônio de Pádua/RJ: 67.27161230442853 hab/km²\n",
      "São Fidélis/RJ: 36.39439295823801 hab/km²\n",
      "São Francisco de Itabapoana/RJ: 36.84294928904885 hab/km²\n",
      "São Gonçalo/RJ: 4035.8806669088854 hab/km²\n",
      "São João da Barra/RJ: 71.96510196905766 hab/km²\n",
      "São João de Meriti/RJ: 13023.083475298126 hab/km²\n",
      "São José de Ubá/RJ: 27.980661658941983 hab/km²\n",
      "São José do Vale do Rio Preto/RJ: 91.87043505874881 hab/km²\n",
      "São Pedro da Aldeia/RJ: 264.05541031881967 hab/km²\n",
      "São Sebastião do Alto/RJ: 22.35486303091229 hab/km²\n",
      "Sapucaia/RJ: 32.351258053201896 hab/km²\n",
      "Saquarema/RJ: 209.95559578018498 hab/km²\n",
      "Seropédica/RJ: 275.5356639413589 hab/km²\n",
      "Silva Jardim/RJ: 22.77105221054877 hab/km²\n",
      "Sumidouro/RJ: 37.67192556634304 hab/km²\n",
      "Tanguá/RJ: 211.2164948453608 hab/km²\n",
      "Teresópolis/RJ: 212.49156501427458 hab/km²\n",
      "Trajano de Moraes/RJ: 17.444600803648633 hab/km²\n",
      "Três Rios/RJ: 237.41951309253696 hab/km²\n",
      "Valença/RJ: 55.06012369617033 hab/km²\n",
      "Varre-Sai/RJ: 49.85267810165211 hab/km²\n",
      "Vassouras/RJ: 63.943656737219634 hab/km²\n",
      "Volta Redonda/RJ: 1412.7740026304252 hab/km²\n"
     ]
    }
   ],
   "source": [
    "for municipio in municipios:\n",
    "    if municipio.estado == 'RJ':\n",
    "        densidade = municipio.habitantes / municipio.area\n",
    "        print(municipio.nome + '/RJ' + ': ' + str(densidade) + ' hab/km²')"
   ]
  }
 ],
 "metadata": {
  "kernelspec": {
   "display_name": "Python 3",
   "language": "python",
   "name": "python3"
  },
  "language_info": {
   "codemirror_mode": {
    "name": "ipython",
    "version": 3
   },
   "file_extension": ".py",
   "mimetype": "text/x-python",
   "name": "python",
   "nbconvert_exporter": "python",
   "pygments_lexer": "ipython3",
   "version": "3.6.1"
  }
 },
 "nbformat": 4,
 "nbformat_minor": 2
}
